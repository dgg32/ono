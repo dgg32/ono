{
  "nbformat": 4,
  "nbformat_minor": 0,
  "metadata": {
    "colab": {
      "provenance": []
    },
    "kernelspec": {
      "name": "python3",
      "display_name": "Python 3"
    },
    "language_info": {
      "name": "python"
    }
  },
  "cells": [
    {
      "cell_type": "code",
      "source": [
        "!pip install openai"
      ],
      "metadata": {
        "colab": {
          "base_uri": "https://localhost:8080/"
        },
        "id": "8qH5CXxOgD9a",
        "outputId": "3f1523d6-f588-4322-a2d6-fb5c88f95153"
      },
      "execution_count": 1,
      "outputs": [
        {
          "output_type": "stream",
          "name": "stdout",
          "text": [
            "Looking in indexes: https://pypi.org/simple, https://us-python.pkg.dev/colab-wheels/public/simple/\n",
            "Collecting openai\n",
            "  Downloading openai-0.27.4-py3-none-any.whl (70 kB)\n",
            "\u001b[2K     \u001b[90m━━━━━━━━━━━━━━━━━━━━━━━━━━━━━━━━━━━━━━━━\u001b[0m \u001b[32m70.3/70.3 kB\u001b[0m \u001b[31m2.7 MB/s\u001b[0m eta \u001b[36m0:00:00\u001b[0m\n",
            "\u001b[?25hCollecting aiohttp\n",
            "  Downloading aiohttp-3.8.4-cp39-cp39-manylinux_2_17_x86_64.manylinux2014_x86_64.whl (1.0 MB)\n",
            "\u001b[2K     \u001b[90m━━━━━━━━━━━━━━━━━━━━━━━━━━━━━━━━━━━━━━━━\u001b[0m \u001b[32m1.0/1.0 MB\u001b[0m \u001b[31m19.0 MB/s\u001b[0m eta \u001b[36m0:00:00\u001b[0m\n",
            "\u001b[?25hRequirement already satisfied: tqdm in /usr/local/lib/python3.9/dist-packages (from openai) (4.65.0)\n",
            "Requirement already satisfied: requests>=2.20 in /usr/local/lib/python3.9/dist-packages (from openai) (2.27.1)\n",
            "Requirement already satisfied: idna<4,>=2.5 in /usr/local/lib/python3.9/dist-packages (from requests>=2.20->openai) (3.4)\n",
            "Requirement already satisfied: certifi>=2017.4.17 in /usr/local/lib/python3.9/dist-packages (from requests>=2.20->openai) (2022.12.7)\n",
            "Requirement already satisfied: urllib3<1.27,>=1.21.1 in /usr/local/lib/python3.9/dist-packages (from requests>=2.20->openai) (1.26.15)\n",
            "Requirement already satisfied: charset-normalizer~=2.0.0 in /usr/local/lib/python3.9/dist-packages (from requests>=2.20->openai) (2.0.12)\n",
            "Requirement already satisfied: attrs>=17.3.0 in /usr/local/lib/python3.9/dist-packages (from aiohttp->openai) (22.2.0)\n",
            "Collecting frozenlist>=1.1.1\n",
            "  Downloading frozenlist-1.3.3-cp39-cp39-manylinux_2_5_x86_64.manylinux1_x86_64.manylinux_2_17_x86_64.manylinux2014_x86_64.whl (158 kB)\n",
            "\u001b[2K     \u001b[90m━━━━━━━━━━━━━━━━━━━━━━━━━━━━━━━━━━━━━━\u001b[0m \u001b[32m158.8/158.8 kB\u001b[0m \u001b[31m16.2 MB/s\u001b[0m eta \u001b[36m0:00:00\u001b[0m\n",
            "\u001b[?25hCollecting yarl<2.0,>=1.0\n",
            "  Downloading yarl-1.8.2-cp39-cp39-manylinux_2_17_x86_64.manylinux2014_x86_64.whl (264 kB)\n",
            "\u001b[2K     \u001b[90m━━━━━━━━━━━━━━━━━━━━━━━━━━━━━━━━━━━━━━\u001b[0m \u001b[32m264.6/264.6 kB\u001b[0m \u001b[31m25.5 MB/s\u001b[0m eta \u001b[36m0:00:00\u001b[0m\n",
            "\u001b[?25hCollecting aiosignal>=1.1.2\n",
            "  Downloading aiosignal-1.3.1-py3-none-any.whl (7.6 kB)\n",
            "Collecting async-timeout<5.0,>=4.0.0a3\n",
            "  Downloading async_timeout-4.0.2-py3-none-any.whl (5.8 kB)\n",
            "Collecting multidict<7.0,>=4.5\n",
            "  Downloading multidict-6.0.4-cp39-cp39-manylinux_2_17_x86_64.manylinux2014_x86_64.whl (114 kB)\n",
            "\u001b[2K     \u001b[90m━━━━━━━━━━━━━━━━━━━━━━━━━━━━━━━━━━━━━━\u001b[0m \u001b[32m114.2/114.2 kB\u001b[0m \u001b[31m10.8 MB/s\u001b[0m eta \u001b[36m0:00:00\u001b[0m\n",
            "\u001b[?25hInstalling collected packages: multidict, frozenlist, async-timeout, yarl, aiosignal, aiohttp, openai\n",
            "Successfully installed aiohttp-3.8.4 aiosignal-1.3.1 async-timeout-4.0.2 frozenlist-1.3.3 multidict-6.0.4 openai-0.27.4 yarl-1.8.2\n"
          ]
        }
      ]
    },
    {
      "cell_type": "code",
      "execution_count": 2,
      "metadata": {
        "id": "JewihVftQj_X"
      },
      "outputs": [],
      "source": [
        "import pandas as pd\n",
        "import openai\n",
        "from tqdm import tqdm"
      ]
    },
    {
      "cell_type": "code",
      "source": [
        "df = pd.read_csv(\"nodes_with_examples_final.csv\")"
      ],
      "metadata": {
        "id": "2E6cTz3MQ3N6"
      },
      "execution_count": 3,
      "outputs": []
    },
    {
      "cell_type": "code",
      "source": [
        "len(df)"
      ],
      "metadata": {
        "colab": {
          "base_uri": "https://localhost:8080/"
        },
        "id": "Vj_e41P5b9oG",
        "outputId": "d091f012-f796-479d-b97c-0674d6d62148"
      },
      "execution_count": 4,
      "outputs": [
        {
          "output_type": "execute_result",
          "data": {
            "text/plain": [
              "1190"
            ]
          },
          "metadata": {},
          "execution_count": 4
        }
      ]
    },
    {
      "cell_type": "code",
      "source": [
        "df.head()"
      ],
      "metadata": {
        "colab": {
          "base_uri": "https://localhost:8080/",
          "height": 206
        },
        "id": "bM6XdDCWShxY",
        "outputId": "2780cf17-2757-4b79-fbc6-0b50af392604"
      },
      "execution_count": 5,
      "outputs": [
        {
          "output_type": "execute_result",
          "data": {
            "text/plain": [
              "   word      romaji                                        explanation  \\\n",
              "0  パチパチ  pachipachi  crackling, cracking, snapping, popping, clicki...   \n",
              "1  ハラハラ    harahara  to feel anxious, to feel nervous, to be kept i...   \n",
              "2  あっさり      assari  easily, readily, quickly, flatly (refuse); lig...   \n",
              "3  あべこべ     abekobe  contrary, opposite, inverse, reverse, back-to-...   \n",
              "4  あやふや     ayafuya                        uncertain, vague, ambiguous   \n",
              "\n",
              "                                          properties  \\\n",
              "0  popular; onomatopoeic or mimetic word; adverb;...   \n",
              "1  popular; onomatopoeic or mimetic word; noun or...   \n",
              "2  popular; JLPT N1; onomatopoeic or mimetic word...   \n",
              "3  popular; JLPT N1; onomatopoeic or mimetic word...   \n",
              "4  popular; JLPT N1; onomatopoeic or mimetic word...   \n",
              "\n",
              "                                            examples  \n",
              "0  囲炉裏の側にいるとぱちぱちという音が聞こえてくる。; 日本には口にいれるとパチパチとはじける...  \n",
              "1  偉い人が集まるパーティで自分が失礼なことしないかどうかハラハラする。; 紅葉の季節が終わって...  \n",
              "2  このラーメンはすごくあっさりした味。; 白大豆よりこの黒大豆で作られた味噌汁はあっさりしてい...  \n",
              "3                                                NaN  \n",
              "4                                                NaN  "
            ],
            "text/html": [
              "\n",
              "  <div id=\"df-3783e0ba-1975-4c3a-b133-8c0e4990ff64\">\n",
              "    <div class=\"colab-df-container\">\n",
              "      <div>\n",
              "<style scoped>\n",
              "    .dataframe tbody tr th:only-of-type {\n",
              "        vertical-align: middle;\n",
              "    }\n",
              "\n",
              "    .dataframe tbody tr th {\n",
              "        vertical-align: top;\n",
              "    }\n",
              "\n",
              "    .dataframe thead th {\n",
              "        text-align: right;\n",
              "    }\n",
              "</style>\n",
              "<table border=\"1\" class=\"dataframe\">\n",
              "  <thead>\n",
              "    <tr style=\"text-align: right;\">\n",
              "      <th></th>\n",
              "      <th>word</th>\n",
              "      <th>romaji</th>\n",
              "      <th>explanation</th>\n",
              "      <th>properties</th>\n",
              "      <th>examples</th>\n",
              "    </tr>\n",
              "  </thead>\n",
              "  <tbody>\n",
              "    <tr>\n",
              "      <th>0</th>\n",
              "      <td>パチパチ</td>\n",
              "      <td>pachipachi</td>\n",
              "      <td>crackling, cracking, snapping, popping, clicki...</td>\n",
              "      <td>popular; onomatopoeic or mimetic word; adverb;...</td>\n",
              "      <td>囲炉裏の側にいるとぱちぱちという音が聞こえてくる。; 日本には口にいれるとパチパチとはじける...</td>\n",
              "    </tr>\n",
              "    <tr>\n",
              "      <th>1</th>\n",
              "      <td>ハラハラ</td>\n",
              "      <td>harahara</td>\n",
              "      <td>to feel anxious, to feel nervous, to be kept i...</td>\n",
              "      <td>popular; onomatopoeic or mimetic word; noun or...</td>\n",
              "      <td>偉い人が集まるパーティで自分が失礼なことしないかどうかハラハラする。; 紅葉の季節が終わって...</td>\n",
              "    </tr>\n",
              "    <tr>\n",
              "      <th>2</th>\n",
              "      <td>あっさり</td>\n",
              "      <td>assari</td>\n",
              "      <td>easily, readily, quickly, flatly (refuse); lig...</td>\n",
              "      <td>popular; JLPT N1; onomatopoeic or mimetic word...</td>\n",
              "      <td>このラーメンはすごくあっさりした味。; 白大豆よりこの黒大豆で作られた味噌汁はあっさりしてい...</td>\n",
              "    </tr>\n",
              "    <tr>\n",
              "      <th>3</th>\n",
              "      <td>あべこべ</td>\n",
              "      <td>abekobe</td>\n",
              "      <td>contrary, opposite, inverse, reverse, back-to-...</td>\n",
              "      <td>popular; JLPT N1; onomatopoeic or mimetic word...</td>\n",
              "      <td>NaN</td>\n",
              "    </tr>\n",
              "    <tr>\n",
              "      <th>4</th>\n",
              "      <td>あやふや</td>\n",
              "      <td>ayafuya</td>\n",
              "      <td>uncertain, vague, ambiguous</td>\n",
              "      <td>popular; JLPT N1; onomatopoeic or mimetic word...</td>\n",
              "      <td>NaN</td>\n",
              "    </tr>\n",
              "  </tbody>\n",
              "</table>\n",
              "</div>\n",
              "      <button class=\"colab-df-convert\" onclick=\"convertToInteractive('df-3783e0ba-1975-4c3a-b133-8c0e4990ff64')\"\n",
              "              title=\"Convert this dataframe to an interactive table.\"\n",
              "              style=\"display:none;\">\n",
              "        \n",
              "  <svg xmlns=\"http://www.w3.org/2000/svg\" height=\"24px\"viewBox=\"0 0 24 24\"\n",
              "       width=\"24px\">\n",
              "    <path d=\"M0 0h24v24H0V0z\" fill=\"none\"/>\n",
              "    <path d=\"M18.56 5.44l.94 2.06.94-2.06 2.06-.94-2.06-.94-.94-2.06-.94 2.06-2.06.94zm-11 1L8.5 8.5l.94-2.06 2.06-.94-2.06-.94L8.5 2.5l-.94 2.06-2.06.94zm10 10l.94 2.06.94-2.06 2.06-.94-2.06-.94-.94-2.06-.94 2.06-2.06.94z\"/><path d=\"M17.41 7.96l-1.37-1.37c-.4-.4-.92-.59-1.43-.59-.52 0-1.04.2-1.43.59L10.3 9.45l-7.72 7.72c-.78.78-.78 2.05 0 2.83L4 21.41c.39.39.9.59 1.41.59.51 0 1.02-.2 1.41-.59l7.78-7.78 2.81-2.81c.8-.78.8-2.07 0-2.86zM5.41 20L4 18.59l7.72-7.72 1.47 1.35L5.41 20z\"/>\n",
              "  </svg>\n",
              "      </button>\n",
              "      \n",
              "  <style>\n",
              "    .colab-df-container {\n",
              "      display:flex;\n",
              "      flex-wrap:wrap;\n",
              "      gap: 12px;\n",
              "    }\n",
              "\n",
              "    .colab-df-convert {\n",
              "      background-color: #E8F0FE;\n",
              "      border: none;\n",
              "      border-radius: 50%;\n",
              "      cursor: pointer;\n",
              "      display: none;\n",
              "      fill: #1967D2;\n",
              "      height: 32px;\n",
              "      padding: 0 0 0 0;\n",
              "      width: 32px;\n",
              "    }\n",
              "\n",
              "    .colab-df-convert:hover {\n",
              "      background-color: #E2EBFA;\n",
              "      box-shadow: 0px 1px 2px rgba(60, 64, 67, 0.3), 0px 1px 3px 1px rgba(60, 64, 67, 0.15);\n",
              "      fill: #174EA6;\n",
              "    }\n",
              "\n",
              "    [theme=dark] .colab-df-convert {\n",
              "      background-color: #3B4455;\n",
              "      fill: #D2E3FC;\n",
              "    }\n",
              "\n",
              "    [theme=dark] .colab-df-convert:hover {\n",
              "      background-color: #434B5C;\n",
              "      box-shadow: 0px 1px 3px 1px rgba(0, 0, 0, 0.15);\n",
              "      filter: drop-shadow(0px 1px 2px rgba(0, 0, 0, 0.3));\n",
              "      fill: #FFFFFF;\n",
              "    }\n",
              "  </style>\n",
              "\n",
              "      <script>\n",
              "        const buttonEl =\n",
              "          document.querySelector('#df-3783e0ba-1975-4c3a-b133-8c0e4990ff64 button.colab-df-convert');\n",
              "        buttonEl.style.display =\n",
              "          google.colab.kernel.accessAllowed ? 'block' : 'none';\n",
              "\n",
              "        async function convertToInteractive(key) {\n",
              "          const element = document.querySelector('#df-3783e0ba-1975-4c3a-b133-8c0e4990ff64');\n",
              "          const dataTable =\n",
              "            await google.colab.kernel.invokeFunction('convertToInteractive',\n",
              "                                                     [key], {});\n",
              "          if (!dataTable) return;\n",
              "\n",
              "          const docLinkHtml = 'Like what you see? Visit the ' +\n",
              "            '<a target=\"_blank\" href=https://colab.research.google.com/notebooks/data_table.ipynb>data table notebook</a>'\n",
              "            + ' to learn more about interactive tables.';\n",
              "          element.innerHTML = '';\n",
              "          dataTable['output_type'] = 'display_data';\n",
              "          await google.colab.output.renderOutput(dataTable, element);\n",
              "          const docLink = document.createElement('div');\n",
              "          docLink.innerHTML = docLinkHtml;\n",
              "          element.appendChild(docLink);\n",
              "        }\n",
              "      </script>\n",
              "    </div>\n",
              "  </div>\n",
              "  "
            ]
          },
          "metadata": {},
          "execution_count": 5
        }
      ]
    },
    {
      "cell_type": "code",
      "source": [
        "GPT_APIKEY = input(\"Your GPT-3 API Key: \")\n",
        "openai.api_key = GPT_APIKEY\n",
        "EMBEDDING_MODEL = \"text-embedding-ada-002\""
      ],
      "metadata": {
        "id": "o7kZCJ2bbr_N"
      },
      "execution_count": null,
      "outputs": []
    },
    {
      "cell_type": "code",
      "source": [
        "def get_embedding(text, model=EMBEDDING_MODEL):\n",
        "   text = text.replace(\"\\n\", \" \")\n",
        "   return openai.Embedding.create(input = [text], model=model)['data'][0]['embedding']"
      ],
      "metadata": {
        "id": "G_gUDGsGl9EL"
      },
      "execution_count": 7,
      "outputs": []
    },
    {
      "cell_type": "code",
      "source": [
        "df[\"embedding\"] = df[\"explanation\"].apply(lambda x: get_embedding(x))"
      ],
      "metadata": {
        "id": "UhDB3utikFyD"
      },
      "execution_count": 8,
      "outputs": []
    },
    {
      "cell_type": "code",
      "source": [
        "df.to_csv(\"with_embedding.csv\")"
      ],
      "metadata": {
        "id": "VTDKmnOalrbp"
      },
      "execution_count": 9,
      "outputs": []
    },
    {
      "cell_type": "code",
      "source": [
        "from openai.embeddings_utils import cosine_similarity\n",
        "\n",
        "def search_synonyms(ddf, index, cutoff=0.9):\n",
        "    query_embedding = ddf.iloc[index][\"embedding\"]\n",
        "    res = ddf[\"embedding\"].apply(lambda x: cosine_similarity(x, query_embedding)).reset_index(name=\"similarity\")\n",
        "    \n",
        "    return res[res[\"similarity\"] > cutoff]"
      ],
      "metadata": {
        "id": "wJ8ZkbHAv8NP"
      },
      "execution_count": 10,
      "outputs": []
    },
    {
      "cell_type": "code",
      "source": [
        "nodes = []\n",
        "edges = set()\n",
        "\n",
        "\n",
        "for i, row in tqdm(df.iterrows()):\n",
        "    \n",
        "    nodes.append([i, row[\"word\"], row[\"romaji\"], row[\"explanation\"], row[\"properties\"], row[\"examples\"]])\n",
        "\n",
        "\n",
        "    result_index = search_synonyms(df, i)\n",
        "    for j, r in result_index.iterrows():\n",
        "        if i != r[\"index\"]:\n",
        "            min_tuple = int(min(i, r[\"index\"]))\n",
        "            max_tuple = int(max(i, r[\"index\"]))\n",
        "            edges.add(f\"{min_tuple},{max_tuple},{round(r['similarity'], 5)}\")"
      ],
      "metadata": {
        "colab": {
          "base_uri": "https://localhost:8080/"
        },
        "id": "xYS0xPS0Q4Ah",
        "outputId": "2b264286-6480-457c-aa18-a78e57d2494e"
      },
      "execution_count": 11,
      "outputs": [
        {
          "output_type": "stream",
          "name": "stderr",
          "text": [
            "1190it [13:40,  1.45it/s]\n"
          ]
        }
      ]
    },
    {
      "cell_type": "code",
      "source": [
        "node_df = pd.DataFrame(nodes, columns =['index', 'word', 'romaji', 'explanation', 'properties', 'examples'])\n",
        "\n",
        "node_df.to_csv(\"nodes.csv\", sep=\",\", index = False)"
      ],
      "metadata": {
        "id": "gJRiSTXWjnvN"
      },
      "execution_count": 12,
      "outputs": []
    },
    {
      "cell_type": "code",
      "source": [
        "edges_content = \",\".join([\"from\", \"to\", \"similarity\"]) + \"\\n\"\n",
        "\n",
        "for e in edges:\n",
        "    edges_content += \",\".join(e.split(\",\")) + \"\\n\"\n",
        "\n",
        "with open(\"edges.csv\", \"w\") as output:\n",
        "    output.write(edges_content)"
      ],
      "metadata": {
        "id": "3giBd8RelUVS"
      },
      "execution_count": 13,
      "outputs": []
    },
    {
      "cell_type": "code",
      "source": [
        "node_df[\"examples\"].isna()"
      ],
      "metadata": {
        "id": "1MAdpNaabGiB",
        "colab": {
          "base_uri": "https://localhost:8080/"
        },
        "outputId": "f4607b2d-857f-4dd5-d3f0-dd6d12ba10ff"
      },
      "execution_count": 15,
      "outputs": [
        {
          "output_type": "execute_result",
          "data": {
            "text/plain": [
              "0       False\n",
              "1       False\n",
              "2       False\n",
              "3        True\n",
              "4        True\n",
              "        ...  \n",
              "1185     True\n",
              "1186     True\n",
              "1187     True\n",
              "1188     True\n",
              "1189     True\n",
              "Name: examples, Length: 1190, dtype: bool"
            ]
          },
          "metadata": {},
          "execution_count": 15
        }
      ]
    },
    {
      "cell_type": "code",
      "source": [],
      "metadata": {
        "id": "zNsAfbKmXzBx"
      },
      "execution_count": null,
      "outputs": []
    }
  ]
}